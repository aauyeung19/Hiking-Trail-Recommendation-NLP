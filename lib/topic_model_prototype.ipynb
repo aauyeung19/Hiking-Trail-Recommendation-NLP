{
 "metadata": {
  "language_info": {
   "codemirror_mode": {
    "name": "ipython",
    "version": 3
   },
   "file_extension": ".py",
   "mimetype": "text/x-python",
   "name": "python",
   "nbconvert_exporter": "python",
   "pygments_lexer": "ipython3",
   "version": "3.8.3-final"
  },
  "orig_nbformat": 2,
  "kernelspec": {
   "name": "python3",
   "display_name": "Python 3"
  }
 },
 "nbformat": 4,
 "nbformat_minor": 2,
 "cells": [
  {
   "cell_type": "code",
   "execution_count": 89,
   "metadata": {},
   "outputs": [],
   "source": [
    "import pickle\n",
    "import pandas as pd\n",
    "from sklearn.feature_extraction.text import CountVectorizer\n",
    "from sklearn.feature_extraction.text import TfidfVectorizer\n",
    "from sklearn.decomposition import LatentDirichletAllocation\n",
    "from sklearn.decomposition import TruncatedSVD\n",
    "from sklearn.decomposition import NMF"
   ]
  },
  {
   "source": [
    "Load Cleaned Data"
   ],
   "cell_type": "markdown",
   "metadata": {}
  },
  {
   "source": [
    "hikes_df = pickle.load(open('../src/cleaned_hike_desc.pickle', 'rb'))\n",
    "hikes_df.set_index('hike_id', inplace=True)\n",
    "\n",
    "reviews = pickle.load(open('../src/cleaned_reviews.pickle', 'rb'))"
   ],
   "cell_type": "code",
   "metadata": {},
   "execution_count": 10,
   "outputs": []
  },
  {
   "cell_type": "code",
   "execution_count": 11,
   "metadata": {},
   "outputs": [
    {
     "output_type": "execute_result",
     "data": {
      "text/plain": [
       "                                                                  user_desc  \\\n",
       "hike_id user_id                                                               \n",
       "hike_1  steph-scott-2     Beautiful in fall. Went on a Tuesday late morn...   \n",
       "        diana-pinho-3     went on a Tuesday AM around 9ish and didn't ex...   \n",
       "        jason-pennacchio  Hiked Oct 2020, hiked from parking lot #3. Arr...   \n",
       "        lolita-dickson    We started with the blue trail and finished wi...   \n",
       "        allie-jay-1       Definitely start with the red trail , it’s ste...   \n",
       "\n",
       "                                                            cleaned_reviews  \n",
       "hike_id user_id                                                              \n",
       "hike_1  steph-scott-2     beautiful fall go tuesday late morning midfall...  \n",
       "        diana-pinho-3     go tuesday around ish do not expect see many p...  \n",
       "        jason-pennacchio  hiked oct hike parking lot arrive lot full ext...  \n",
       "        lolita-dickson    start blue trail finish red one slippery today...  \n",
       "        allie-jay-1       definitely start red trail steep difficult get...  "
      ],
      "text/html": "<div>\n<style scoped>\n    .dataframe tbody tr th:only-of-type {\n        vertical-align: middle;\n    }\n\n    .dataframe tbody tr th {\n        vertical-align: top;\n    }\n\n    .dataframe thead th {\n        text-align: right;\n    }\n</style>\n<table border=\"1\" class=\"dataframe\">\n  <thead>\n    <tr style=\"text-align: right;\">\n      <th></th>\n      <th></th>\n      <th>user_desc</th>\n      <th>cleaned_reviews</th>\n    </tr>\n    <tr>\n      <th>hike_id</th>\n      <th>user_id</th>\n      <th></th>\n      <th></th>\n    </tr>\n  </thead>\n  <tbody>\n    <tr>\n      <th rowspan=\"5\" valign=\"top\">hike_1</th>\n      <th>steph-scott-2</th>\n      <td>Beautiful in fall. Went on a Tuesday late morn...</td>\n      <td>beautiful fall go tuesday late morning midfall...</td>\n    </tr>\n    <tr>\n      <th>diana-pinho-3</th>\n      <td>went on a Tuesday AM around 9ish and didn't ex...</td>\n      <td>go tuesday around ish do not expect see many p...</td>\n    </tr>\n    <tr>\n      <th>jason-pennacchio</th>\n      <td>Hiked Oct 2020, hiked from parking lot #3. Arr...</td>\n      <td>hiked oct hike parking lot arrive lot full ext...</td>\n    </tr>\n    <tr>\n      <th>lolita-dickson</th>\n      <td>We started with the blue trail and finished wi...</td>\n      <td>start blue trail finish red one slippery today...</td>\n    </tr>\n    <tr>\n      <th>allie-jay-1</th>\n      <td>Definitely start with the red trail , it’s ste...</td>\n      <td>definitely start red trail steep difficult get...</td>\n    </tr>\n  </tbody>\n</table>\n</div>"
     },
     "metadata": {},
     "execution_count": 11
    }
   ],
   "source": [
    "reviews.set_index(['hike_id', 'user_id'], inplace=True)\n",
    "reviews.head()"
   ]
  },
  {
   "source": [
    "Set up Document Term Matrix with CountVectorizer"
   ],
   "cell_type": "markdown",
   "metadata": {}
  },
  {
   "cell_type": "code",
   "execution_count": 13,
   "metadata": {},
   "outputs": [],
   "source": []
  },
  {
   "source": [
    "## SVD"
   ],
   "cell_type": "markdown",
   "metadata": {}
  },
  {
   "cell_type": "code",
   "execution_count": 60,
   "metadata": {},
   "outputs": [],
   "source": [
    "def display_topics(model, feature_names, no_top_words, topic_names=None):\n",
    "    for ix, topic in enumerate(model.components_):\n",
    "        if not topic_names or not topic_names[ix]:\n",
    "            print(\"\\nTopic \", ix)\n",
    "        else:\n",
    "            print(\"\\nTopic: '\",topic_names[ix],\"'\")\n",
    "        print(\", \".join([feature_names[i]\n",
    "                        for i in topic.argsort()[:-no_top_words - 1:-1]]))"
   ]
  },
  {
   "source": [
    "Trail Descriptions"
   ],
   "cell_type": "markdown",
   "metadata": {}
  },
  {
   "cell_type": "code",
   "execution_count": 80,
   "metadata": {},
   "outputs": [
    {
     "output_type": "stream",
     "name": "stdout",
     "text": [
      "\nTopic  0\ntrail, use, loop, also, able, dog, mile, near, locate, traffic\n\nTopic  1\ntrip, nature, primarily, hiking, walk, bird, watch, use, run, set\n\nTopic  2\nrate, moderate, well, october, wild, flower, beautiful, use, features, difficult\n\nTopic  3\nchance, see, wildlife, features, lake, offer, rate, moderate, run, loop\n\nTopic  4\nwildlife, see, chance, offer, wild, flower, beautiful, bird, watch, good\n"
     ]
    }
   ],
   "source": [
    "vectorizer = TfidfVectorizer(max_features=2000,  min_df=10)\n",
    "hikes_dtm = vectorizer.fit_transform(hikes_df['cleaned_descriptions'])\n",
    "\n",
    "lsa = TruncatedSVD(5)\n",
    "hikes_topic = lsa.fit_transform(hikes_dtm)\n",
    "\n",
    "display_topics(lsa, vectorizer.get_feature_names(), 10)"
   ]
  },
  {
   "source": [
    "*The terms \"trail\" and \"also\" shows up in multiple topics.  Maybe consider adding to the stop words.*\n",
    "### Topic breakdown:\n",
    "* Topic 0: Things the Trail offers\n",
    "* Topic 1: Not much?\n",
    "* Topic 2/3: Describe the trail features"
   ],
   "cell_type": "markdown",
   "metadata": {}
  },
  {
   "cell_type": "code",
   "execution_count": 68,
   "metadata": {},
   "outputs": [
    {
     "output_type": "stream",
     "name": "stdout",
     "text": [
      "\nTopic  0\ntrail, locate, near, mile, virginia, running, pennsylvania, appalachian, west, valley\n\nTopic  1\ntrail, offer, number, option, activity, traffic, mile, locate, near, lightly\n\nTopic  2\ngood, skill, level, feature, near, locate, mile, walk, trail, carolina\n\nTopic  3\nloop, trail, feature, locate, near, mile, waterfall, massachusetts, run, connecticut\n\nTopic  4\nleash, kept, must, dog, also, able, use, trail, virginia, pennsylvania\n\nTopic  5\napril, use, well, september, traffic, october, november, bird, heavily, watch\n\nTopic  6\nwild, flower, beautiful, feature, near, locate, mile, colorado, mountain, virginia\n\nTopic  7\noffer, wildlife, see, chance, near, locate, mile, lightly, back, virginia\n\nTopic  8\nforest, great, set, feature, near, locate, mile, virginia, massachusetts, walk\n\nTopic  9\nnature, trip, use, primarily, hiking, walk, bird, traffic, watch, mile\n\nTopic  10\naccessible, yearround, heavily, traffic, carolina, tennessee, feature, north, near, locate\n\nTopic  11\nrate, moderate, mile, near, locate, features, washington, mountain, maryland, via\n\nTopic  12\nlake, features, pond, locate, near, mile, colorado, washington, traffic, june\n\nTopic  13\nnew, york, hampshire, jersey, trail, difficult, mount, mountain, rate, township\n\nTopic  14\nback, waterfall, feature, via, near, locate, mile, fall, creek, difficult\n\nTopic  15\nuse, primarily, hiking, traffic, run, mile, near, locate, lightly, mountain\n\nTopic  16\nriver, feature, features, virginia, mile, locate, near, pointtopoint, maryland, west\n\nTopic  17\nuse, able, also, dog, horse, trail, november, best, massachusetts, park\n\nTopic  18\nuse, well, october, march, heavily, traffic, may, november, colorado, difficult\n\nTopic  19\nmoderately, traffic, use, mile, near, locate, primarily, massachusetts, road, north\n"
     ]
    }
   ],
   "source": [
    "# Descriptions\n",
    "nmf_model = NMF(20)\n",
    "trail_desc = nmf_model.fit_transform(hikes_dtm)\n",
    "display_topics(nmf_model, vectorizer.get_feature_names(), 10)"
   ]
  },
  {
   "cell_type": "code",
   "execution_count": null,
   "metadata": {},
   "outputs": [],
   "source": []
  },
  {
   "cell_type": "code",
   "execution_count": null,
   "metadata": {},
   "outputs": [],
   "source": []
  },
  {
   "cell_type": "code",
   "execution_count": null,
   "metadata": {},
   "outputs": [],
   "source": []
  },
  {
   "source": [
    "Trail Reviews"
   ],
   "cell_type": "markdown",
   "metadata": {}
  },
  {
   "cell_type": "code",
   "execution_count": 81,
   "metadata": {},
   "outputs": [],
   "source": [
    "vectorizer = TfidfVectorizer(max_features=2000, min_df=10, max_df=0.4)\n",
    "reviews_dtm = vectorizer.fit_transform(reviews['cleaned_reviews'])"
   ]
  },
  {
   "cell_type": "code",
   "execution_count": 88,
   "metadata": {},
   "outputs": [
    {
     "output_type": "stream",
     "name": "stdout",
     "text": [
      "\nTopic  0\ngreat, view, not, beautiful, nice, easy, get, go, lot, good\n\nTopic  1\ngreat, view, beautiful, kid, easy, family, awesome, short, amazing, workout\n\nTopic  2\nnice, beautiful, easy, view, walk, short, waterfall, fall, scenery, quick\n\nTopic  3\nbeautiful, view, worth, amazing, fall, love, absolutely, top, waterfall, lake\n\nTopic  4\nview, top, amazing, awesome, worth, good, steep, nice, climb, summit\n"
     ]
    }
   ],
   "source": [
    "lsa = TruncatedSVD(5)\n",
    "reviews_topics = lsa.fit_transform(reviews_dtm)\n",
    "display_topics(lsa, vectorizer.get_feature_names(), 10)"
   ]
  },
  {
   "source": [
    "Add hikes and trail to stopwords"
   ],
   "cell_type": "markdown",
   "metadata": {}
  },
  {
   "cell_type": "code",
   "execution_count": 87,
   "metadata": {},
   "outputs": [],
   "source": [
    "# Descriptions\n",
    "nmf_model = NMF(5)\n",
    "trail_desc = nmf_model.fit_transform(reviews_dtm)"
   ]
  },
  {
   "cell_type": "code",
   "execution_count": 86,
   "metadata": {},
   "outputs": [
    {
     "output_type": "stream",
     "name": "stdout",
     "text": [
      "\nTopic  0\nnot, go, get, lot, pron, mile, back, way, take, see\n\nTopic  1\ngreat, kid, view, dog, family, little, day, place, love, workout\n\nTopic  2\nnice, walk, little, short, really, wood, view, dog, place, loop\n\nTopic  3\nbeautiful, fall, waterfall, love, scenery, lake, day, absolutely, view, place\n\nTopic  4\nview, top, amazing, awesome, worth, good, steep, short, climb, summit\n\nTopic  5\neasy, walk, pretty, kid, fun, follow, short, dog, well, family\n"
     ]
    }
   ],
   "source": [
    "display_topics(nmf_model, vectorizer.get_feature_names(), 10)"
   ]
  },
  {
   "source": [
    "* Topic 0: Not much\n",
    "* Topic 1 & 2: Family Friendly\n",
    "* Topic 3: Categorizes easier hikes\n",
    "* Topic 4: Harder hikes with good payout"
   ],
   "cell_type": "markdown",
   "metadata": {}
  },
  {
   "cell_type": "code",
   "execution_count": 90,
   "metadata": {},
   "outputs": [
    {
     "output_type": "execute_result",
     "data": {
      "text/plain": [
       "LatentDirichletAllocation(n_components=2)"
      ]
     },
     "metadata": {},
     "execution_count": 90
    }
   ],
   "source": [
    "# LDA \n",
    "vectorizer = CountVectorizer(max_features=2000,  min_df=10)\n",
    "hikes_dtm = vectorizer.fit_transform(hikes_df['cleaned_descriptions'])\n",
    "\n",
    "lda_hikes = LatentDirichletAllocation(n_components=2)\n",
    "lda_hikes.fit(hikes_dtm)"
   ]
  },
  {
   "cell_type": "code",
   "execution_count": 92,
   "metadata": {},
   "outputs": [
    {
     "output_type": "stream",
     "name": "stderr",
     "text": [
      "/Users/andrew/.vscode/extensions/ms-python.python-2020.10.332292344/pythonFiles/lib/python/past/types/oldstr.py:23: DeprecationWarning: invalid escape sequence \\d\n  \"\"\"\n"
     ]
    },
    {
     "output_type": "execute_result",
     "data": {
      "text/plain": [
       "PreparedData(topic_coordinates=              x    y  topics  cluster       Freq\n",
       "topic                                           \n",
       "0      0.056697  0.0       1        1  58.543866\n",
       "1     -0.056697  0.0       2        1  41.456134, topic_info=           Term         Freq         Total Category  logprob  loglift\n",
       "733       offer  7470.000000   7470.000000  Default  30.0000  30.0000\n",
       "728      number  5394.000000   5394.000000  Default  29.0000  29.0000\n",
       "741      option  5393.000000   5393.000000  Default  28.0000  28.0000\n",
       "4      activity  5387.000000   5387.000000  Default  27.0000  27.0000\n",
       "807   primarily  8724.000000   8724.000000  Default  26.0000  26.0000\n",
       "...         ...          ...           ...      ...      ...      ...\n",
       "409        good  2622.995906   5982.950063   Topic2  -4.2570   0.0559\n",
       "1057        use  7549.946749  24679.023736   Topic2  -3.1997  -0.3039\n",
       "833        rate  3077.471500   7942.509409   Topic2  -4.0972  -0.0676\n",
       "667    moderate  2598.029415   6416.889144   Topic2  -4.2665  -0.0236\n",
       "38         back  2001.023853   5450.513929   Topic2  -4.5276  -0.1215\n",
       "\n",
       "[156 rows x 6 columns], token_table=      Topic      Freq        Term\n",
       "term                             \n",
       "0         1  0.512601        able\n",
       "0         2  0.487465        able\n",
       "3         1  0.424634  accessible\n",
       "3         2  0.575415  accessible\n",
       "4         2  0.999991    activity\n",
       "...     ...       ...         ...\n",
       "1137      2  0.052958  woodbridge\n",
       "1144      1  0.947014    wyanokie\n",
       "1144      2  0.059188    wyanokie\n",
       "1146      1  0.424124   yearround\n",
       "1146      2  0.575919   yearround\n",
       "\n",
       "[203 rows x 3 columns], R=30, lambda_step=0.01, plot_opts={'xlab': 'PC1', 'ylab': 'PC2'}, topic_order=[1, 2])"
      ],
      "text/html": "\n<link rel=\"stylesheet\" type=\"text/css\" href=\"https://cdn.rawgit.com/bmabey/pyLDAvis/files/ldavis.v1.0.0.css\">\n\n\n<div id=\"ldavis_el11209140279577498224732997579\"></div>\n<script type=\"text/javascript\">\n\nvar ldavis_el11209140279577498224732997579_data = {\"mdsDat\": {\"x\": [0.05669734163095752, -0.05669734163095752], \"y\": [0.0, 0.0], \"topics\": [1, 2], \"cluster\": [1, 1], \"Freq\": [58.54386610251648, 41.45613389748351]}, \"tinfo\": {\"Term\": [\"offer\", \"number\", \"option\", \"activity\", \"primarily\", \"hiking\", \"nature\", \"trip\", \"walk\", \"run\", \"bird\", \"watch\", \"trail\", \"able\", \"also\", \"well\", \"yearround\", \"best\", \"accessible\", \"dog\", \"running\", \"biking\", \"leash\", \"must\", \"kept\", \"camping\", \"traffic\", \"loop\", \"moderately\", \"mile\", \"primarily\", \"hiking\", \"trip\", \"nature\", \"walk\", \"bird\", \"run\", \"watch\", \"best\", \"running\", \"biking\", \"camping\", \"backpacking\", \"backpack\", \"snowshoeing\", \"snowshoe\", \"fishing\", \"ohvoff\", \"climbing\", \"walking\", \"driving\", \"canoe\", \"middlebury\", \"skiing\", \"fly\", \"kayak\", \"alton\", \"woodbridge\", \"wyanokie\", \"tiger\", \"potomac\", \"luray\", \"syria\", \"use\", \"country\", \"mountain\", \"set\", \"great\", \"trail\", \"forest\", \"road\", \"lightly\", \"mile\", \"near\", \"locate\", \"rate\", \"back\", \"loop\", \"traffic\", \"feature\", \"moderate\", \"dog\", \"also\", \"able\", \"good\", \"level\", \"skill\", \"kept\", \"must\", \"leash\", \"moderately\", \"well\", \"lake\", \"number\", \"option\", \"activity\", \"experienced\", \"recommend\", \"adventurer\", \"raleigh\", \"offer\", \"dogs\", \"dover\", \"morrison\", \"cary\", \"frisco\", \"news\", \"falmouth\", \"setting\", \"elkridge\", \"conifer\", \"buena\", \"recreational\", \"hot\", \"paw\", \"border\", \"framingham\", \"hollis\", \"mead\", \"medfield\", \"hope\", \"maroon\", \"durango\", \"warwick\", \"segment\", \"pines\", \"yearround\", \"accessible\", \"well\", \"trail\", \"able\", \"also\", \"dog\", \"leash\", \"must\", \"kept\", \"march\", \"traffic\", \"heavily\", \"flower\", \"beautiful\", \"wild\", \"loop\", \"mile\", \"locate\", \"near\", \"moderately\", \"feature\", \"lake\", \"skill\", \"level\", \"good\", \"use\", \"rate\", \"moderate\", \"back\"], \"Freq\": [7470.0, 5394.0, 5393.0, 5387.0, 8724.0, 7917.0, 5516.0, 5281.0, 4456.0, 2701.0, 2521.0, 2109.0, 48618.0, 9906.0, 9906.0, 5133.0, 3998.0, 902.0, 4005.0, 9738.0, 767.0, 752.0, 7743.0, 7743.0, 7743.0, 580.0, 12785.0, 12343.0, 6649.0, 14179.0, 8723.706025254744, 7916.955408303892, 5281.118602366697, 5515.55727827965, 4456.476411147112, 2521.0770957126065, 2700.841863105481, 2108.7640607223825, 901.6231752726525, 766.4939010505426, 751.5874302568185, 579.7073446159237, 353.1787450569103, 220.04443613771318, 218.05740577194084, 130.62113042997854, 112.74622723472821, 53.139621705105306, 52.104051641710875, 49.06587103735246, 40.22118725869141, 53.878511476119755, 28.276160403917093, 27.29818448441064, 19.356662651533572, 33.74394538488409, 23.101307797657878, 18.278516009600313, 16.351380350861128, 15.387766798322607, 50.56191972412133, 23.06050803570759, 38.62865437733343, 17129.076987468234, 55.19759527495427, 1771.4757852115915, 1216.5760440944896, 1294.7389382840724, 27822.322278946423, 1345.0016412603345, 599.2587325751437, 2263.0528522234035, 8295.528757609703, 8261.545056140392, 8262.458432789597, 4865.037909440399, 3449.4900760137025, 7052.427336734341, 7212.945978812664, 5298.913351496706, 3818.8597282190817, 5029.614229742956, 5077.806446638976, 5077.80507302929, 3359.954157822003, 3340.5313573829167, 3339.6218208641444, 4021.610919111998, 4021.6102017075978, 4021.6098793837555, 3599.11752824676, 2331.3830981212714, 2268.6317294060436, 5393.5694407556775, 5392.566343091254, 5386.548842891559, 218.9624675249066, 218.95303701279906, 218.94946328436865, 42.55059985876874, 7344.34252431748, 28.421563268060776, 27.30655502975868, 25.32058880713586, 16.534084030952435, 19.441980673204878, 16.52130510994593, 22.327325177264672, 20.379956627089534, 31.033672239347396, 19.332118324321822, 17.3604093273981, 13.496329149718857, 21.15994287745414, 17.3050501708991, 12.492412218693202, 12.467327227353206, 12.459450540464294, 12.455871059044194, 13.410376456015914, 24.800690258977728, 11.443111009363566, 11.41373220192704, 16.136071202574726, 18.870362917215463, 19.67513016091442, 2303.305855496152, 2305.299270775998, 2801.793631384542, 20796.584893808787, 4828.537742195903, 4828.536355514627, 4708.6850534586065, 3722.3100748298125, 3722.309749438642, 3722.3090252072707, 1161.5339110484786, 5572.719126736848, 1479.5819206345907, 1561.285776965064, 1560.711265536662, 1563.2566901000407, 5291.444228181734, 5884.018639805903, 5860.2333047323145, 5859.14939557666, 3050.5501663049795, 3868.1285435940417, 2012.6016336315681, 2620.452985998767, 2620.5377829785143, 2622.9959055575046, 7549.946748593502, 3077.4714995203926, 2598.029415307246, 2001.0238532452092], \"Total\": [7470.0, 5394.0, 5393.0, 5387.0, 8724.0, 7917.0, 5516.0, 5281.0, 4456.0, 2701.0, 2521.0, 2109.0, 48618.0, 9906.0, 9906.0, 5133.0, 3998.0, 902.0, 4005.0, 9738.0, 767.0, 752.0, 7743.0, 7743.0, 7743.0, 580.0, 12785.0, 12343.0, 6649.0, 14179.0, 8724.22836826002, 7917.478640065734, 5281.632429334853, 5516.106827438963, 4456.999162034005, 2521.5945718650337, 2701.424872272677, 2109.2778615079724, 902.1338294632606, 767.0132660415088, 752.1102865774843, 580.2288645875217, 353.70310324042134, 220.56953298587706, 218.58246430804726, 131.15150851896968, 113.26781076680791, 53.655709460366154, 52.66257532501994, 49.68252077624979, 40.73978910102834, 54.651666871200796, 28.817594428902265, 27.82391221491174, 19.875574700049295, 34.783494872876375, 23.85189522531524, 18.882845732868226, 16.89520708372197, 15.901388194263086, 52.6772505945887, 23.852283484900852, 40.75494399735663, 24679.023736061736, 59.65405842650856, 2321.1092523796697, 1595.2109298946614, 1746.9214196310413, 48618.90717275521, 1850.7539489839614, 773.619657272195, 3299.3603688125413, 14179.547397415607, 14120.694451717052, 14122.691737521913, 7942.509408960792, 5450.513929258912, 12343.871564916075, 12785.665105549513, 9167.041895090748, 6416.889143526328, 9738.299283201563, 9906.342802153602, 9906.342815225193, 5982.950063379507, 5961.069140361431, 5960.074806862911, 7743.919944319268, 7743.919951146239, 7743.919954213568, 6649.667694551739, 5133.1767295058135, 4281.2333630376115, 5394.0692782333435, 5393.066288357694, 5387.048359338974, 219.64803412554258, 219.64794522865847, 219.6479115408463, 43.12307276666736, 7470.067516028403, 29.080406944561723, 28.076362141958143, 26.070573080690636, 17.045939517943815, 20.05395333042591, 17.045819057221816, 23.061754554808374, 21.056329335149954, 32.085632509520394, 20.05291771111485, 18.04726304580847, 14.03670159451496, 22.057216047220592, 18.04674120177482, 13.03370399603531, 13.033467531928917, 13.033393282203232, 13.033359540160786, 14.035891359960967, 26.065672248103876, 12.030278581868883, 12.030001642032788, 17.042187643167775, 20.048564965844754, 21.049685276377783, 3998.829387918729, 4005.8029179903674, 5133.1767295058135, 48618.90717275521, 9906.342815225193, 9906.342802153602, 9738.299283201563, 7743.919954213568, 7743.919951146239, 7743.919944319268, 2107.306293397479, 12785.665105549513, 2838.5649164686774, 3030.093657670589, 3030.0882420287744, 3039.0540439420665, 12343.871564916075, 14179.547397415607, 14122.691737521913, 14120.694451717052, 6649.667694551739, 9167.041895090748, 4281.2333630376115, 5960.074806862911, 5961.069140361431, 5982.950063379507, 24679.023736061736, 7942.509408960792, 6416.889143526328, 5450.513929258912], \"Category\": [\"Default\", \"Default\", \"Default\", \"Default\", \"Default\", \"Default\", \"Default\", \"Default\", \"Default\", \"Default\", \"Default\", \"Default\", \"Default\", \"Default\", \"Default\", \"Default\", \"Default\", \"Default\", \"Default\", \"Default\", \"Default\", \"Default\", \"Default\", \"Default\", \"Default\", \"Default\", \"Default\", \"Default\", \"Default\", \"Default\", \"Topic1\", \"Topic1\", \"Topic1\", \"Topic1\", \"Topic1\", \"Topic1\", \"Topic1\", \"Topic1\", \"Topic1\", \"Topic1\", \"Topic1\", \"Topic1\", \"Topic1\", \"Topic1\", \"Topic1\", \"Topic1\", \"Topic1\", \"Topic1\", \"Topic1\", \"Topic1\", \"Topic1\", \"Topic1\", \"Topic1\", \"Topic1\", \"Topic1\", \"Topic1\", \"Topic1\", \"Topic1\", \"Topic1\", \"Topic1\", \"Topic1\", \"Topic1\", \"Topic1\", \"Topic1\", \"Topic1\", \"Topic1\", \"Topic1\", \"Topic1\", \"Topic1\", \"Topic1\", \"Topic1\", \"Topic1\", \"Topic1\", \"Topic1\", \"Topic1\", \"Topic1\", \"Topic1\", \"Topic1\", \"Topic1\", \"Topic1\", \"Topic1\", \"Topic1\", \"Topic1\", \"Topic1\", \"Topic1\", \"Topic1\", \"Topic1\", \"Topic1\", \"Topic1\", \"Topic1\", \"Topic1\", \"Topic1\", \"Topic1\", \"Topic2\", \"Topic2\", \"Topic2\", \"Topic2\", \"Topic2\", \"Topic2\", \"Topic2\", \"Topic2\", \"Topic2\", \"Topic2\", \"Topic2\", \"Topic2\", \"Topic2\", \"Topic2\", \"Topic2\", \"Topic2\", \"Topic2\", \"Topic2\", \"Topic2\", \"Topic2\", \"Topic2\", \"Topic2\", \"Topic2\", \"Topic2\", \"Topic2\", \"Topic2\", \"Topic2\", \"Topic2\", \"Topic2\", \"Topic2\", \"Topic2\", \"Topic2\", \"Topic2\", \"Topic2\", \"Topic2\", \"Topic2\", \"Topic2\", \"Topic2\", \"Topic2\", \"Topic2\", \"Topic2\", \"Topic2\", \"Topic2\", \"Topic2\", \"Topic2\", \"Topic2\", \"Topic2\", \"Topic2\", \"Topic2\", \"Topic2\", \"Topic2\", \"Topic2\", \"Topic2\", \"Topic2\", \"Topic2\", \"Topic2\", \"Topic2\", \"Topic2\", \"Topic2\", \"Topic2\", \"Topic2\", \"Topic2\", \"Topic2\"], \"logprob\": [30.0, 29.0, 28.0, 27.0, 26.0, 25.0, 24.0, 23.0, 22.0, 21.0, 20.0, 19.0, 18.0, 17.0, 16.0, 15.0, 14.0, 13.0, 12.0, 11.0, 10.0, 9.0, 8.0, 7.0, 6.0, 5.0, 4.0, 3.0, 2.0, 1.0, -3.4004, -3.4974, -3.9023, -3.8588, -4.0721, -4.6417, -4.5729, -4.8203, -5.67, -5.8324, -5.852, -6.1117, -6.6072, -7.0803, -7.0894, -7.6019, -7.749, -8.5013, -8.5209, -8.581, -8.7798, -8.4874, -9.1322, -9.1674, -9.5111, -8.9554, -9.3343, -9.5685, -9.6799, -9.7406, -8.551, -9.3361, -8.8202, -2.7256, -8.4633, -4.9946, -5.3704, -5.3081, -2.2406, -5.27, -6.0785, -4.7497, -3.4507, -3.4548, -3.4547, -3.9843, -4.3282, -3.613, -3.5905, -3.8989, -4.2265, -3.9511, -3.9415, -3.9415, -4.3545, -4.3603, -4.3606, -4.1747, -4.1747, -4.1747, -4.2857, -4.72, -4.7472, -3.5361, -3.5363, -3.5374, -6.7401, -6.7402, -6.7402, -8.3783, -3.2274, -8.7819, -8.8219, -8.8974, -9.3236, -9.1616, -9.3244, -9.0232, -9.1145, -8.694, -9.1673, -9.2748, -9.5266, -9.0769, -9.278, -9.6039, -9.6059, -9.6066, -9.6068, -9.533, -8.9182, -9.6916, -9.6942, -9.348, -9.1914, -9.1497, -4.3869, -4.3861, -4.191, -2.1865, -3.6467, -3.6467, -3.6719, -3.9069, -3.9069, -3.9069, -5.0715, -3.5034, -4.8295, -4.7758, -4.7761, -4.7745, -3.5552, -3.449, -3.4531, -3.4533, -4.106, -3.8685, -4.5219, -4.2579, -4.2579, -4.257, -3.1997, -4.0972, -4.2665, -4.5276], \"loglift\": [30.0, 29.0, 28.0, 27.0, 26.0, 25.0, 24.0, 23.0, 22.0, 21.0, 20.0, 19.0, 18.0, 17.0, 16.0, 15.0, 14.0, 13.0, 12.0, 11.0, 10.0, 9.0, 8.0, 7.0, 6.0, 5.0, 4.0, 3.0, 2.0, 1.0, 0.5353, 0.5353, 0.5353, 0.5353, 0.5353, 0.5352, 0.5352, 0.5352, 0.5348, 0.5347, 0.5347, 0.5345, 0.5339, 0.533, 0.533, 0.5313, 0.5308, 0.5257, 0.5247, 0.5229, 0.5226, 0.5211, 0.5164, 0.5163, 0.5089, 0.5051, 0.5034, 0.5029, 0.5027, 0.5026, 0.4944, 0.5016, 0.4818, 0.1702, 0.4578, 0.2652, 0.2644, 0.2358, -0.0228, 0.2162, 0.28, 0.1584, -0.0007, -0.0006, -0.0007, 0.0452, 0.0779, -0.0244, -0.0371, -0.0127, 0.0164, -0.1253, -0.1329, -0.1329, -0.0416, -0.0437, -0.0438, -0.1198, -0.1198, -0.1198, -0.0785, -0.2539, -0.0997, 0.8804, 0.8804, 0.8804, 0.8774, 0.8774, 0.8773, 0.8672, 0.8636, 0.8576, 0.8527, 0.8513, 0.85, 0.8495, 0.8493, 0.8482, 0.8479, 0.8472, 0.8439, 0.8417, 0.8413, 0.839, 0.8386, 0.8381, 0.8361, 0.8355, 0.8352, 0.8349, 0.8308, 0.8305, 0.8279, 0.8259, 0.82, 0.813, 0.3289, 0.328, 0.2751, 0.0313, 0.1619, 0.1619, 0.1539, 0.148, 0.148, 0.148, 0.2849, 0.0501, 0.229, 0.2175, 0.2171, 0.2158, 0.0335, 0.001, 0.0009, 0.0009, 0.1013, 0.0177, 0.1257, 0.0588, 0.0587, 0.0559, -0.3039, -0.0676, -0.0236, -0.1215]}, \"token.table\": {\"Topic\": [1, 2, 1, 2, 2, 1, 2, 1, 2, 1, 2, 1, 2, 1, 2, 1, 2, 1, 2, 1, 2, 1, 2, 1, 2, 1, 2, 1, 2, 1, 2, 1, 2, 1, 2, 1, 2, 1, 2, 1, 2, 1, 2, 1, 2, 1, 2, 1, 2, 1, 2, 1, 2, 1, 2, 1, 2, 1, 2, 1, 2, 1, 2, 1, 2, 1, 2, 1, 2, 1, 2, 1, 2, 1, 2, 1, 2, 1, 2, 1, 2, 1, 2, 1, 2, 1, 2, 1, 2, 1, 2, 1, 2, 1, 2, 1, 2, 1, 2, 1, 2, 1, 2, 1, 2, 1, 2, 1, 2, 1, 2, 1, 2, 1, 2, 1, 2, 1, 2, 1, 2, 1, 2, 1, 2, 1, 2, 1, 2, 1, 2, 2, 1, 2, 1, 2, 2, 1, 2, 1, 2, 1, 2, 1, 2, 1, 2, 1, 2, 1, 2, 1, 2, 1, 2, 1, 2, 1, 2, 1, 2, 1, 2, 1, 2, 1, 2, 1, 2, 1, 2, 1, 2, 1, 2, 1, 2, 1, 2, 1, 2, 1, 2, 1, 2, 1, 2, 1, 2, 1, 2, 1, 2, 1, 2, 1, 2, 1, 2, 1, 2, 1, 2], \"Freq\": [0.5126008754911604, 0.48746546430618615, 0.42463397097263045, 0.5754152281551518, 0.9999910230360398, 0.004552740761270736, 0.9970502267182912, 0.5126008761675461, 0.4874654649494053, 0.9642839607809832, 0.041925389599173184, 0.6327843657981347, 0.3671213441467288, 0.9974178982102958, 0.004533717719137708, 0.9980121654744334, 0.0028272299305224743, 0.4848043629965183, 0.5151665150698197, 0.9998516523171067, 0.0011084829848304952, 0.9998533638224971, 0.001329592239125661, 0.9997642079850315, 0.0003965744577489217, 0.07672416070705515, 0.9206899284846618, 0.055410063978219286, 0.9419710876297278, 0.9996055615266841, 0.0017234578647011797, 0.9880759927645647, 0.018297703569714163, 0.0586649975466196, 0.9973049582925332, 0.9874184784748811, 0.018988816893747713, 0.04986805483402169, 0.947493041846412, 0.9219825348137516, 0.06705327525918194, 0.5165172946241942, 0.48355466011636783, 0.03438741424445604, 0.962847598844769, 0.0356171499335938, 0.9616630482070326, 0.98184111608448, 0.024546027902111998, 0.0831255081882951, 0.9143805900712461, 0.03116659768833548, 0.9661645283383998, 0.004552738220404183, 0.9970496702685161, 0.043361835181421615, 0.9539603739912756, 0.5780490654065614, 0.4219463644069786, 0.9976355968655625, 0.008828633600580199, 0.48480349651281296, 0.5151655943202866, 0.9559472008602033, 0.05031301057158965, 0.7267308551406234, 0.2734020912276249, 0.07672555270116999, 0.9207066324140398, 0.04986547956520859, 0.9474441117389633, 0.5615958623097855, 0.43841248417814505, 0.7413040938461392, 0.2587408883540192, 0.4787630510457611, 0.5213902248327641, 0.9999395464026499, 0.00012630283521569406, 0.07672598979772019, 0.9207118775726423, 0.038364634929864284, 0.9591158732466071, 0.04533663712860123, 0.9520693797006259, 0.9774750962851829, 0.028749267537799498, 0.5193752038914647, 0.4806351339840954, 0.5299874609942085, 0.4701916081892206, 0.5193752032278661, 0.48063513336999447, 0.560469929358583, 0.4396862271322496, 0.6858905202933218, 0.31400025586561264, 0.5850159554250612, 0.41493506400276675, 0.5712956395336527, 0.42863375337103754, 0.9642682644854372, 0.04192470715154075, 0.4489143334141631, 0.5514148577455154, 0.08312359461958958, 0.9143595408154853, 0.07672618843350526, 0.9207142612020631, 0.07124592050153777, 0.9261969665199911, 0.9716286371189169, 0.03470102275424703, 0.5850680397254461, 0.41496387967026577, 0.5951481963581675, 0.4048690793764124, 0.5412300531872837, 0.45881992005401573, 0.03835742301885406, 0.9589355754713514, 0.762997260117902, 0.23695567084406896, 0.5193752034335881, 0.48063513356037174, 0.999980633544218, 0.00018128727946776975, 0.5850987023513815, 0.41492293598120844, 0.05866541212499432, 0.9973120061249034, 0.9999871565918474, 0.01686731742780689, 0.9831236443636016, 0.9877793161816171, 0.018637345588332396, 0.9999877085957877, 0.05541166622933864, 0.9419983258987568, 0.047506648525629615, 0.9501329705125923, 0.9681598683367694, 0.03796705366026547, 0.9999738236723777, 0.00011462331770659992, 0.023189442120946566, 0.9971460112007025, 0.6125268160855151, 0.3874090468849188, 0.004552740063008454, 0.9970500737988514, 0.07124180800358142, 0.9261435040465584, 0.7742822902304358, 0.22491672537578603, 0.9998427228989272, 0.0003701750177337753, 0.9986789458717733, 0.0013037584149762052, 0.04987888169071579, 0.9476987521236001, 0.7629085139733613, 0.2375861354115891, 0.04749165840271459, 0.9498331680542917, 0.9703883404839748, 0.035940308906813885, 0.5603956507649962, 0.43959179790547603, 0.9988447824910244, 0.007624769331992552, 0.997335265160034, 0.004574932408990982, 0.9569391140012251, 0.04907380071801155, 0.9433138677421705, 0.06288759118281137, 0.5641474213859439, 0.4358787715768564, 0.5722465110361579, 0.4277553982466744, 0.999880258737556, 0.0001893354021468578, 0.6940712154253731, 0.30592782278367486, 0.9997758218034869, 0.00022436620776559402, 0.9862623561448585, 0.020127803186629767, 0.058677912773768846, 0.9388466043803015, 0.9998682669964716, 0.0004740959065891283, 0.45410476257348975, 0.5458608085503724, 0.48567744392114437, 0.5143047729327566, 0.9532461502170984, 0.05295811945650546, 0.9470141396145138, 0.05918838372590711, 0.42412412120506027, 0.5759185443014468], \"Term\": [\"able\", \"able\", \"accessible\", \"accessible\", \"activity\", \"adventurer\", \"adventurer\", \"also\", \"also\", \"alton\", \"alton\", \"back\", \"back\", \"backpack\", \"backpack\", \"backpacking\", \"backpacking\", \"beautiful\", \"beautiful\", \"best\", \"best\", \"biking\", \"biking\", \"bird\", \"bird\", \"border\", \"border\", \"buena\", \"buena\", \"camping\", \"camping\", \"canoe\", \"canoe\", \"cary\", \"cary\", \"climbing\", \"climbing\", \"conifer\", \"conifer\", \"country\", \"country\", \"dog\", \"dog\", \"dogs\", \"dogs\", \"dover\", \"dover\", \"driving\", \"driving\", \"durango\", \"durango\", \"elkridge\", \"elkridge\", \"experienced\", \"experienced\", \"falmouth\", \"falmouth\", \"feature\", \"feature\", \"fishing\", \"fishing\", \"flower\", \"flower\", \"fly\", \"fly\", \"forest\", \"forest\", \"framingham\", \"framingham\", \"frisco\", \"frisco\", \"good\", \"good\", \"great\", \"great\", \"heavily\", \"heavily\", \"hiking\", \"hiking\", \"hollis\", \"hollis\", \"hope\", \"hope\", \"hot\", \"hot\", \"kayak\", \"kayak\", \"kept\", \"kept\", \"lake\", \"lake\", \"leash\", \"leash\", \"level\", \"level\", \"lightly\", \"lightly\", \"locate\", \"locate\", \"loop\", \"loop\", \"luray\", \"luray\", \"march\", \"march\", \"maroon\", \"maroon\", \"mead\", \"mead\", \"medfield\", \"medfield\", \"middlebury\", \"middlebury\", \"mile\", \"mile\", \"moderate\", \"moderate\", \"moderately\", \"moderately\", \"morrison\", \"morrison\", \"mountain\", \"mountain\", \"must\", \"must\", \"nature\", \"nature\", \"near\", \"near\", \"news\", \"news\", \"number\", \"offer\", \"offer\", \"ohvoff\", \"ohvoff\", \"option\", \"paw\", \"paw\", \"pines\", \"pines\", \"potomac\", \"potomac\", \"primarily\", \"primarily\", \"raleigh\", \"raleigh\", \"rate\", \"rate\", \"recommend\", \"recommend\", \"recreational\", \"recreational\", \"road\", \"road\", \"run\", \"run\", \"running\", \"running\", \"segment\", \"segment\", \"set\", \"set\", \"setting\", \"setting\", \"skiing\", \"skiing\", \"skill\", \"skill\", \"snowshoe\", \"snowshoe\", \"snowshoeing\", \"snowshoeing\", \"syria\", \"syria\", \"tiger\", \"tiger\", \"traffic\", \"traffic\", \"trail\", \"trail\", \"trip\", \"trip\", \"use\", \"use\", \"walk\", \"walk\", \"walking\", \"walking\", \"warwick\", \"warwick\", \"watch\", \"watch\", \"well\", \"well\", \"wild\", \"wild\", \"woodbridge\", \"woodbridge\", \"wyanokie\", \"wyanokie\", \"yearround\", \"yearround\"]}, \"R\": 30, \"lambda.step\": 0.01, \"plot.opts\": {\"xlab\": \"PC1\", \"ylab\": \"PC2\"}, \"topic.order\": [1, 2]};\n\nfunction LDAvis_load_lib(url, callback){\n  var s = document.createElement('script');\n  s.src = url;\n  s.async = true;\n  s.onreadystatechange = s.onload = callback;\n  s.onerror = function(){console.warn(\"failed to load library \" + url);};\n  document.getElementsByTagName(\"head\")[0].appendChild(s);\n}\n\nif(typeof(LDAvis) !== \"undefined\"){\n   // already loaded: just create the visualization\n   !function(LDAvis){\n       new LDAvis(\"#\" + \"ldavis_el11209140279577498224732997579\", ldavis_el11209140279577498224732997579_data);\n   }(LDAvis);\n}else if(typeof define === \"function\" && define.amd){\n   // require.js is available: use it to load d3/LDAvis\n   require.config({paths: {d3: \"https://cdnjs.cloudflare.com/ajax/libs/d3/3.5.5/d3.min\"}});\n   require([\"d3\"], function(d3){\n      window.d3 = d3;\n      LDAvis_load_lib(\"https://cdn.rawgit.com/bmabey/pyLDAvis/files/ldavis.v1.0.0.js\", function(){\n        new LDAvis(\"#\" + \"ldavis_el11209140279577498224732997579\", ldavis_el11209140279577498224732997579_data);\n      });\n    });\n}else{\n    // require.js not available: dynamically load d3 & LDAvis\n    LDAvis_load_lib(\"https://cdnjs.cloudflare.com/ajax/libs/d3/3.5.5/d3.min.js\", function(){\n         LDAvis_load_lib(\"https://cdn.rawgit.com/bmabey/pyLDAvis/files/ldavis.v1.0.0.js\", function(){\n                 new LDAvis(\"#\" + \"ldavis_el11209140279577498224732997579\", ldavis_el11209140279577498224732997579_data);\n            })\n         });\n}\n</script>"
     },
     "metadata": {},
     "execution_count": 92
    }
   ],
   "source": [
    "import pyLDAvis\n",
    "import pyLDAvis.sklearn\n",
    "pyLDAvis.enable_notebook()\n",
    "\n",
    "pyLDAvis.sklearn.prepare(lda_hikes, hikes_dtm, vectorizer)"
   ]
  },
  {
   "cell_type": "code",
   "execution_count": null,
   "metadata": {},
   "outputs": [],
   "source": []
  }
 ]
}